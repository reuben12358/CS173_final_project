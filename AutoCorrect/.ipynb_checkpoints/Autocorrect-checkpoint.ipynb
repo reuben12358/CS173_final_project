{
 "cells": [
  {
   "cell_type": "code",
   "execution_count": 2,
   "metadata": {
    "scrolled": true
   },
   "outputs": [],
   "source": [
    "#!pip install editdistance\n",
    "from nltk import ngrams\n"
   ]
  },
  {
   "cell_type": "code",
   "execution_count": 30,
   "metadata": {},
   "outputs": [],
   "source": [
    "import re\n",
    "\n",
    "import bisect\n",
    "import nltk\n",
    "\n",
    "def insertIntoHeap(myBisect,nodeVal,key):\n",
    "    bisect.insort(myBisect,(nodeVal,key))"
   ]
  },
  {
   "cell_type": "code",
   "execution_count": 4,
   "metadata": {},
   "outputs": [
    {
     "ename": "NameError",
     "evalue": "name 'insertIntoHeap' is not defined",
     "output_type": "error",
     "traceback": [
      "\u001b[1;31m---------------------------------------------------------------------------\u001b[0m",
      "\u001b[1;31mNameError\u001b[0m                                 Traceback (most recent call last)",
      "\u001b[1;32m<ipython-input-4-1655f5933256>\u001b[0m in \u001b[0;36m<module>\u001b[1;34m\u001b[0m\n\u001b[0;32m      1\u001b[0m \u001b[0mmyQueue\u001b[0m \u001b[1;33m=\u001b[0m \u001b[1;33m[\u001b[0m\u001b[1;33m]\u001b[0m\u001b[1;33m\u001b[0m\u001b[1;33m\u001b[0m\u001b[0m\n\u001b[1;32m----> 2\u001b[1;33m \u001b[0minsertIntoHeap\u001b[0m\u001b[1;33m(\u001b[0m\u001b[0mmyQueue\u001b[0m\u001b[1;33m,\u001b[0m\u001b[1;36m4\u001b[0m\u001b[1;33m,\u001b[0m\u001b[1;34m\"bob\"\u001b[0m\u001b[1;33m)\u001b[0m\u001b[1;33m\u001b[0m\u001b[1;33m\u001b[0m\u001b[0m\n\u001b[0m\u001b[0;32m      3\u001b[0m \u001b[0minsertIntoHeap\u001b[0m\u001b[1;33m(\u001b[0m\u001b[0mmyQueue\u001b[0m\u001b[1;33m,\u001b[0m\u001b[1;36m9\u001b[0m\u001b[1;33m,\u001b[0m\u001b[1;34m\"test\"\u001b[0m\u001b[1;33m)\u001b[0m\u001b[1;33m\u001b[0m\u001b[1;33m\u001b[0m\u001b[0m\n\u001b[0;32m      4\u001b[0m \u001b[0minsertIntoHeap\u001b[0m\u001b[1;33m(\u001b[0m\u001b[0mmyQueue\u001b[0m\u001b[1;33m,\u001b[0m\u001b[1;36m3\u001b[0m\u001b[1;33m,\u001b[0m\u001b[1;34m\"lolFace\"\u001b[0m\u001b[1;33m)\u001b[0m\u001b[1;33m\u001b[0m\u001b[1;33m\u001b[0m\u001b[0m\n\u001b[0;32m      5\u001b[0m \u001b[0mprint\u001b[0m\u001b[1;33m(\u001b[0m\u001b[0mmyQueue\u001b[0m\u001b[1;33m)\u001b[0m\u001b[1;33m\u001b[0m\u001b[1;33m\u001b[0m\u001b[0m\n",
      "\u001b[1;31mNameError\u001b[0m: name 'insertIntoHeap' is not defined"
     ]
    }
   ],
   "source": [
    "myQueue = []\n",
    "insertIntoHeap(myQueue,4,\"bob\")\n",
    "insertIntoHeap(myQueue,9,\"test\")\n",
    "insertIntoHeap(myQueue,3,\"lolFace\")\n",
    "print(myQueue)"
   ]
  },
  {
   "cell_type": "code",
   "execution_count": 5,
   "metadata": {},
   "outputs": [],
   "source": [
    "file = open('mobydick.txt','r')\n",
    "myDic = {}\n",
    "JustWords = {}\n",
    "text = file.read()\n",
    "for word in text.split():\n",
    "    if word in myDic:\n",
    "        myDic[word] += 1\n",
    "    else:\n",
    "        myDic[word] = 1\n",
    "for word in re.split(r'\\W+', text):\n",
    "    foundWord = word.lower()\n",
    "    if word in JustWords:\n",
    "        JustWords[foundWord] += 1\n",
    "    else:\n",
    "        JustWords[foundWord] = 1\n"
   ]
  },
  {
   "cell_type": "code",
   "execution_count": 6,
   "metadata": {},
   "outputs": [
    {
     "name": "stdout",
     "output_type": "stream",
     "text": [
      "<re.Match object; span=(0, 3), match='2ND'>\n"
     ]
    }
   ],
   "source": [
    "pattern = re.compile(\"[0-9]+[A-z]*\")\n",
    "print(pattern.fullmatch(\"2ND\"))"
   ]
  },
  {
   "cell_type": "code",
   "execution_count": 7,
   "metadata": {},
   "outputs": [
    {
     "ename": "NameError",
     "evalue": "name 'bisect' is not defined",
     "output_type": "error",
     "traceback": [
      "\u001b[1;31m---------------------------------------------------------------------------\u001b[0m",
      "\u001b[1;31mNameError\u001b[0m                                 Traceback (most recent call last)",
      "\u001b[1;32m<ipython-input-7-80b04a215bc9>\u001b[0m in \u001b[0;36m<module>\u001b[1;34m\u001b[0m\n\u001b[0;32m      7\u001b[0m         \u001b[1;32mcontinue\u001b[0m\u001b[1;33m\u001b[0m\u001b[1;33m\u001b[0m\u001b[0m\n\u001b[0;32m      8\u001b[0m     \u001b[0mval\u001b[0m \u001b[1;33m=\u001b[0m \u001b[0mJustWords\u001b[0m\u001b[1;33m[\u001b[0m\u001b[0mword\u001b[0m\u001b[1;33m]\u001b[0m\u001b[1;33m\u001b[0m\u001b[1;33m\u001b[0m\u001b[0m\n\u001b[1;32m----> 9\u001b[1;33m     \u001b[0mbisect\u001b[0m\u001b[1;33m.\u001b[0m\u001b[0minsort\u001b[0m\u001b[1;33m(\u001b[0m\u001b[0mmostFreq\u001b[0m\u001b[1;33m,\u001b[0m\u001b[1;33m(\u001b[0m\u001b[0mval\u001b[0m\u001b[1;33m,\u001b[0m\u001b[0mword\u001b[0m\u001b[1;33m)\u001b[0m\u001b[1;33m)\u001b[0m\u001b[1;33m\u001b[0m\u001b[1;33m\u001b[0m\u001b[0m\n\u001b[0m\u001b[0;32m     10\u001b[0m     \u001b[1;32mif\u001b[0m \u001b[0mlen\u001b[0m\u001b[1;33m(\u001b[0m\u001b[0mmostFreq\u001b[0m\u001b[1;33m)\u001b[0m \u001b[1;33m>\u001b[0m \u001b[1;36m10\u001b[0m\u001b[1;33m:\u001b[0m\u001b[1;33m\u001b[0m\u001b[1;33m\u001b[0m\u001b[0m\n\u001b[0;32m     11\u001b[0m         \u001b[0mmostFreq\u001b[0m\u001b[1;33m.\u001b[0m\u001b[0mpop\u001b[0m\u001b[1;33m(\u001b[0m\u001b[1;33m)\u001b[0m\u001b[1;33m\u001b[0m\u001b[1;33m\u001b[0m\u001b[0m\n",
      "\u001b[1;31mNameError\u001b[0m: name 'bisect' is not defined"
     ]
    }
   ],
   "source": [
    "mostFreq = []\n",
    "pattern = re.compile(\"[0-9]+[A-z]*\")\n",
    "for word in JustWords:\n",
    "    if word == '':\n",
    "        continue\n",
    "    if pattern.fullmatch(word) != None:\n",
    "        continue\n",
    "    val = JustWords[word]\n",
    "    bisect.insort(mostFreq,(val,word))\n",
    "    if len(mostFreq) > 10:\n",
    "        mostFreq.pop()\n",
    "print(mostFreq)"
   ]
  },
  {
   "cell_type": "code",
   "execution_count": null,
   "metadata": {},
   "outputs": [],
   "source": [
    "nltk.download('brown')"
   ]
  },
  {
   "cell_type": "code",
   "execution_count": 8,
   "metadata": {},
   "outputs": [],
   "source": [
    "from nltk.corpus import brown\n"
   ]
  },
  {
   "cell_type": "code",
   "execution_count": 25,
   "metadata": {},
   "outputs": [],
   "source": [
    "def sentenceToNgram(mySentence,N):\n",
    "    myGram = ngrams(mySentence.split(),N)\n",
    "    resultGrams = []\n",
    "    for grams in myGram:\n",
    "        newWord = \"\"\n",
    "        for word in grams:\n",
    "            newWord += word + \" \"\n",
    "        resultGrams.append(newWord)\n",
    "    return resultGrams"
   ]
  },
  {
   "cell_type": "code",
   "execution_count": 44,
   "metadata": {},
   "outputs": [
    {
     "name": "stdout",
     "output_type": "stream",
     "text": [
      "Harmful drinks \n",
      "their drinks \n",
      "proffered drinks \n",
      "for drinks \n",
      "soft drinks \n",
      "soft drinks \n",
      "sufferer drinks \n",
      "one drinks \n",
      "soft drinks \n",
      "tall drinks \n",
      "soft drinks \n",
      "two drinks \n",
      "for drinks \n",
      "six drinks \n",
      "soft drinks \n",
      "loaded drinks \n",
      "weaker drinks \n",
      "buy drinks \n",
      "free drinks \n",
      "two drinks \n",
      "no drinks \n",
      "Who drinks \n",
      "[(1, 'Harmful drinks '), (1, 'Who drinks '), (1, 'buy drinks '), (1, 'free drinks '), (1, 'loaded drinks '), (1, 'no drinks '), (1, 'one drinks '), (1, 'proffered drinks '), (1, 'six drinks '), (1, 'sufferer drinks '), (1, 'tall drinks '), (1, 'their drinks '), (1, 'weaker drinks '), (2, 'for drinks '), (2, 'two drinks '), (5, 'soft drinks ')]\n"
     ]
    }
   ],
   "source": [
    "sentences = brown.sents()\n",
    "\n",
    "bigrams = {}\n",
    "newSentences = []\n",
    "for sentence in sentences:\n",
    "    newSentence = \"\"\n",
    "    for word in sentence:\n",
    "        newSentence += word + \" \"\n",
    "    newSentences.append(newSentence)\n",
    "for sentence in newSentences:\n",
    "    bigramAry = sentenceToNgram(sentence,2)\n",
    "    for biSentence in bigramAry:\n",
    "        sentenceAry = biSentence.split(' ')\n",
    "        if sentenceAry[1] == \"drinks\":\n",
    "            print(biSentence)\n",
    "            if biSentence not in bigrams:\n",
    "                bigrams[biSentence] = 1\n",
    "            else:\n",
    "                bigrams[biSentence] += 1\n",
    "res = []\n",
    "for i in bigrams:\n",
    "    bisect.insort(res,(bigrams[i],i))\n",
    "print(res)\n",
    "                  \n",
    "    \n",
    "    \n",
    "# trigrams = ngrams(sentence.split(),3)\n",
    "# for grams in trigrams:\n",
    "#     newWord = \"\"\n",
    "#     for word in grams:\n",
    "#         newWord += word + \" \"\n",
    "#     if \"ran the\" in newWord:\n",
    "#         print(newWord)\n"
   ]
  },
  {
   "cell_type": "code",
   "execution_count": 22,
   "metadata": {},
   "outputs": [
    {
     "name": "stdout",
     "output_type": "stream",
     "text": [
      "this is a foo bar sentences \n",
      "is a foo bar sentences and \n",
      "a foo bar sentences and i \n",
      "foo bar sentences and i want \n",
      "bar sentences and i want to \n",
      "sentences and i want to ngramize \n",
      "and i want to ngramize it \n"
     ]
    }
   ],
   "source": [
    "sentence = 'this is a foo bar sentences and i want to ngramize it'\n",
    "\n",
    "n = 6\n",
    "sixgrams = ngrams(sentence.split(), n)\n",
    "\n",
    "for grams in sixgrams:\n",
    "    newWord = \"\"\n",
    "    for word in grams:\n",
    "        newWord += word + \" \"\n",
    "    print(newWord)"
   ]
  },
  {
   "cell_type": "code",
   "execution_count": null,
   "metadata": {},
   "outputs": [],
   "source": [
    "def findKCloestWords(incorrectWord):\n",
    "    resultAry = []\n",
    "    for word in myDic:\n",
    "        res = editdistance.eval(incorrectWord,word)\n",
    "        if res < 4:\n",
    "            bisect.insort(resultAry,(res,word))\n",
    "            if len(resultAry) > 4:\n",
    "                resultAry.pop()\n",
    "    return resultAry"
   ]
  },
  {
   "cell_type": "code",
   "execution_count": 45,
   "metadata": {},
   "outputs": [
    {
     "ename": "NameError",
     "evalue": "name 'findKCloestWords' is not defined",
     "output_type": "error",
     "traceback": [
      "\u001b[1;31m---------------------------------------------------------------------------\u001b[0m",
      "\u001b[1;31mNameError\u001b[0m                                 Traceback (most recent call last)",
      "\u001b[1;32m<ipython-input-45-b4dac946014c>\u001b[0m in \u001b[0;36m<module>\u001b[1;34m\u001b[0m\n\u001b[1;32m----> 1\u001b[1;33m \u001b[0mham\u001b[0m \u001b[1;33m=\u001b[0m \u001b[1;33m(\u001b[0m\u001b[0mfindKCloestWords\u001b[0m\u001b[1;33m(\u001b[0m\u001b[1;34m\"harambe\"\u001b[0m\u001b[1;33m)\u001b[0m\u001b[1;33m)\u001b[0m\u001b[1;33m\u001b[0m\u001b[1;33m\u001b[0m\u001b[0m\n\u001b[0m\u001b[0;32m      2\u001b[0m \u001b[1;32mfor\u001b[0m \u001b[0mval\u001b[0m \u001b[1;32min\u001b[0m \u001b[0mham\u001b[0m\u001b[1;33m:\u001b[0m\u001b[1;33m\u001b[0m\u001b[1;33m\u001b[0m\u001b[0m\n\u001b[0;32m      3\u001b[0m     \u001b[0mprint\u001b[0m\u001b[1;33m(\u001b[0m\u001b[0mval\u001b[0m\u001b[1;33m[\u001b[0m\u001b[1;36m1\u001b[0m\u001b[1;33m]\u001b[0m\u001b[1;33m)\u001b[0m\u001b[1;33m\u001b[0m\u001b[1;33m\u001b[0m\u001b[0m\n",
      "\u001b[1;31mNameError\u001b[0m: name 'findKCloestWords' is not defined"
     ]
    }
   ],
   "source": [
    "ham = (findKCloestWords(\"harambe\"))\n",
    "for val in ham:\n",
    "    print(val[1])\n"
   ]
  },
  {
   "cell_type": "code",
   "execution_count": 50,
   "metadata": {},
   "outputs": [
    {
     "name": "stdout",
     "output_type": "stream",
     "text": [
      "uninterpenetratingly\n"
     ]
    }
   ],
   "source": [
    "file = open('mobydick_snt/tokens.txt','r')\n",
    "text = file.read()\n",
    "maxWord = \"\"\n",
    "for word in re.split(r'\\W+', text):\n",
    "    if len(word) > len(maxWord):\n",
    "        maxWord = word\n",
    "print(maxWord)"
   ]
  }
 ],
 "metadata": {
  "kernelspec": {
   "display_name": "Python 3",
   "language": "python",
   "name": "python3"
  },
  "language_info": {
   "codemirror_mode": {
    "name": "ipython",
    "version": 3
   },
   "file_extension": ".py",
   "mimetype": "text/x-python",
   "name": "python",
   "nbconvert_exporter": "python",
   "pygments_lexer": "ipython3",
   "version": "3.7.3"
  }
 },
 "nbformat": 4,
 "nbformat_minor": 2
}
